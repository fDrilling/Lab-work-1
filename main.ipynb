{
  "cells": [
    {
      "cell_type": "code",
      "execution_count": 1,
      "metadata": {
        "trusted": true
      },
      "outputs": [],
      "source": [
        "import math"
      ]
    },
    {
      "cell_type": "code",
      "execution_count": 2,
      "metadata": {},
      "outputs": [],
      "source": [
        "#Відкриття файла і зчитування данних. \n",
        "xyz_file = open(\"nucleosides_xyz/2_r9_xyz_dftV3#r9_007_EcacV.xyz\")"
      ]
    },
    {
      "cell_type": "code",
      "execution_count": 3,
      "metadata": {
        "trusted": true
      },
      "outputs": [],
      "source": [
        "\n",
        "line_data_list = [] \n",
        "numberC = 0 \n",
        "numberO = 0 \n",
        "numberH = 0 \n",
        "numberN = 0  \n",
        "                                 \n",
        "for d in xyz_file:\n",
        "    sep_list = d.split()\n",
        "    if sep_list[0] == 'C':\n",
        "        line_data_list.append([f'{sep_list[0]}{numberC}', \n",
        "                            float(sep_list[1]), \n",
        "                            float(sep_list[2]), \n",
        "                            float(sep_list[3])])\n",
        "        numberC += 1\n",
        "    elif sep_list[0] == 'N':\n",
        "        line_data_list.append([f'{sep_list[0]}{numberN}', \n",
        "                            float(sep_list[1]), \n",
        "                            float(sep_list[2]), \n",
        "                            float(sep_list[3])])\n",
        "        numberN += 1\n",
        "    elif sep_list[0] == 'H':\n",
        "        line_data_list.append([f'{sep_list[0]}{numberH}', \n",
        "                            float(sep_list[1]), \n",
        "                            float(sep_list[2]), \n",
        "                            float(sep_list[3])])\n",
        "        numberH += 1\n",
        "    elif sep_list[0] == 'O':\n",
        "        line_data_list.append([f'{sep_list[0]}{numberO}', \n",
        "                            float(sep_list[1]), \n",
        "                            float(sep_list[2]), \n",
        "                            float(sep_list[3])])\n",
        "        numberO += 1\n",
        "\n",
        "atom_number = numberC + numberO + numberH + numberN\n",
        "xyz_file.close()"
      ]
    },
    {
      "cell_type": "code",
      "execution_count": 4,
      "metadata": {
        "trusted": true
      },
      "outputs": [],
      "source": [
        "# Функція для обрахунку дистанції подавати дані атомів у вмгляді [atom, x, y, z] (line_data_list) видає результат у вигляді 10^-1 А(ангстреми)\n",
        "\n",
        "def distance_calculation (atom1, atom2):\n",
        "    sum_x = atom1[1] - atom2[1]\n",
        "    sum_y = atom1[2] - atom2[2]\n",
        "    sum_z = atom1[3] - atom2[3]\n",
        "    result = math.hypot(sum_x, sum_y, sum_z)\n",
        "    return result\n",
        "\n"
      ]
    },
    {
      "cell_type": "code",
      "execution_count": 5,
      "metadata": {
        "trusted": true
      },
      "outputs": [],
      "source": [
        "# 2d матриця яка показує прари атомів, які зв'язані між собою bond_atoms_matrix\n",
        "\n",
        "bond_atoms_matrix = []\n",
        "for i in range (atom_number):\n",
        "    for k in range (atom_number):\n",
        "        distance = distance_calculation(line_data_list[i], line_data_list[k])\n",
        "        if 4 < int(distance*10) < 17:\n",
        "            bond_atoms_matrix.append([line_data_list[i][0],line_data_list[k][0]])\n",
        "            \n",
        "# CN = 13 - 15 \n",
        "# CH = 6 - 8\n",
        "# CO = 12 - 14\n",
        "# CC = 14 - 16\n",
        "# C2N = 11 - 13\n",
        "# C2O = 13 - 15  "
      ]
    },
    {
      "cell_type": "code",
      "execution_count": 6,
      "metadata": {
        "trusted": true
      },
      "outputs": [],
      "source": [
        "# DA atoms number - 31\n",
        "# DG atoms number - 32\n",
        "# DT - 31\n",
        "# DC - 29\n",
        "\n",
        "if atom_number == 32:\n",
        "    nucleoside_is = 'DG'\n",
        "elif atom_number == 29:\n",
        "    nucleoside_is = 'DC'\n",
        "elif atom_number == 31:\n",
        "    if numberN == 2:\n",
        "        nucleoside_is = 'DT'\n",
        "    else:\n",
        "        nucleoside_is = 'DA'\n"
      ]
    },
    {
      "cell_type": "code",
      "execution_count": 7,
      "metadata": {
        "trusted": true
      },
      "outputs": [],
      "source": [
        "# Шукаємо особливий N що звёязаний з 3 атомами С, остримуємо n_atom_3C = [C, C, C, N]\n",
        "\n",
        "n_atom_3C = []\n",
        "n = 0\n",
        "for w in bond_atoms_matrix:\n",
        "    if w[0][0] == 'N':\n",
        "        n_atom_3C.append(w[1])\n",
        "        for a in n_atom_3C:\n",
        "            if a[0] == 'C':\n",
        "                n += 1\n",
        "        if n > 3:                     ####\n",
        "            n_atom_3C.append(w[0])\n",
        "            break"
      ]
    },
    {
      "cell_type": "code",
      "execution_count": 8,
      "metadata": {
        "trusted": true
      },
      "outputs": [],
      "source": [
        "#Створюємо result list, де дані у вигляді [[atom_fileindex, [x,y,z], atom_num]], і додаємо туди N\n",
        "\n",
        "line_data_dict = {}\n",
        "for i in line_data_list:\n",
        "    line_data_dict. update({i[0] :[i[1], i[2], i[3]]})\n",
        "\n",
        "result_list = []\n",
        "result_list.append([n_atom_3C[3], line_data_dict[n_atom_3C[3]]])\n",
        "if nucleoside_is == 'DT' or 'DC':\n",
        "    result_list[0].append('N6')\n",
        "else:\n",
        "    result_list[0].append('N9')"
      ]
    },
    {
      "cell_type": "code",
      "execution_count": 9,
      "metadata": {
        "trusted": true
      },
      "outputs": [],
      "source": [
        "#Функція бере А№ i видає список атомів поряд\n",
        "def near_atoms(atom = str):                \n",
        "    sub_atoms = []\n",
        "    for i in bond_atoms_matrix:\n",
        "        if i[0] == atom:\n",
        "            sub_atoms.append(i[1][0])\n",
        "    return sub_atoms "
      ]
    },
    {
      "cell_type": "code",
      "execution_count": 10,
      "metadata": {
        "trusted": true
      },
      "outputs": [],
      "source": [
        "#Функція бере А№ i видає список атомів поряд з файловими індексами\n",
        "def near_atomswindex(atom = str):                \n",
        "    sub_atomsindex =[]\n",
        "    for i in bond_atoms_matrix:\n",
        "        if i[0] == atom:\n",
        "            sub_atomsindex.append(i[1])\n",
        "    return sub_atomsindex"
      ]
    },
    {
      "cell_type": "code",
      "execution_count": 11,
      "metadata": {
        "trusted": true
      },
      "outputs": [],
      "source": [
        "# Функція бере А№ i A2№ знаходить спсисок атомів поряд з A№ і видалає з ноьго A2№ - уже опрацьований\n",
        "def path_division(atom = str, already_checked = str):\n",
        "    sub_atoms =[]\n",
        "    for i in bond_atoms_matrix:\n",
        "        if i[0] == atom:\n",
        "            sub_atoms.append(i[1])\n",
        "\n",
        "    sub_atoms.remove(already_checked)\n",
        "    return sub_atoms"
      ]
    },
    {
      "cell_type": "code",
      "execution_count": 12,
      "metadata": {
        "trusted": true
      },
      "outputs": [],
      "source": [
        "\n",
        "#функція отримує значення С№ і значення номеру атому в молекулі, і додає їх в результат\n",
        "def update_result(atom_fileindex, atom_num): \n",
        "\n",
        "        result_list.append([atom_fileindex, line_data_dict[atom_fileindex]])\n",
        "        result_list[-1].append(atom_num)"
      ]
    },
    {
      "cell_type": "code",
      "execution_count": 13,
      "metadata": {
        "trusted": true
      },
      "outputs": [],
      "source": [
        "O3_found = None \n",
        "C3_found = None\n",
        "O5_found = None\n",
        "C5_found = None\n",
        "\n",
        "\n",
        "\n",
        "for i in n_atom_3C[0:3]:            # desoxiribose part\n",
        "    ls = near_atoms(i) \n",
        "\n",
        "    if ls.count('O') == 1 and ls.count('C') == 1 and ls.count('H') == 1 and ls.count('N') == 1:  # По С1' > O\n",
        "        update_result(i, 'C1`')\n",
        "        divide = path_division(i, n_atom_3C[3])\n",
        "        for s in divide:\n",
        "            \n",
        "            if s[0] == 'H':\n",
        "                update_result(s, 'H1`')\n",
        "            elif s[0] == 'O':\n",
        "                new_atom = s\n",
        "                update_result(s, 'O')\n",
        "                \n",
        "                for k in path_division(new_atom, i):                     # По О > C4`                                                                              \n",
        "                    update_result(k, 'C4`')\n",
        "                for w in path_division(k, s):                             #C4 >\n",
        "                    if w[0] == 'H':\n",
        "                        update_result(w, 'H4`')\n",
        "                    elif w[0] == 'C':\n",
        "                            \n",
        "                            for l in path_division(w, k):           #C4`` > O5` or C2`\n",
        "                                lst = near_atoms(l)\n",
        "                                \n",
        "                                if lst.count('C') == 2 and lst.count('H') == 2:    # C2`\n",
        "                                    update_result(l, 'C2`')\n",
        "                                    for h in near_atomswindex(l):\n",
        "                                        if h[0] == 'H':\n",
        "                                            update_result(h, 'H2`')\n",
        "                                \n",
        "                                elif  lst.count('C') == 1 and lst.count('H') == 1:         # O5` or O3`\n",
        "                                    for g in near_atomswindex(l):\n",
        "                                        if g[0] == 'C':\n",
        "                                            jk = near_atoms(g)\n",
        "                                            if jk.count('C') == 2:                 # C3` and O3` -> result\n",
        "                                                update_result(g, 'C3`')\n",
        "                                                update_result(l, 'O3`')\n",
        "                                                O3_found = [l, 'O3']\n",
        "                                                C3_found = [g, 'C3']\n",
        "                                            elif jk.count('C') == 1:                  # C5` and O5` -> result\n",
        "                                                update_result(g, 'C5`')\n",
        "                                                update_result(l, 'O5`')\n",
        "                                                O5_found = [l, 'O5']\n",
        "                                                C5_found = [g, 'C5']\n"
      ]
    },
    {
      "cell_type": "code",
      "execution_count": 14,
      "metadata": {
        "trusted": true
      },
      "outputs": [],
      "source": [
        "for i in n_atom_3C[0:3]:            \n",
        "    ls = near_atoms(i)\n",
        "    \n",
        "                                #Аналіз пірамідинів\n",
        "    if nucleoside_is == 'DT' or 'DC':\n",
        "        ls = near_atoms(i)\n",
        "        if ls.count('O') == 1  and ls.count('N') == 2:  # По С1' > O\n",
        "            update_result(i, 'C2')\n",
        "            for s in path_division(i, n_atom_3C[3]):\n",
        "                if s[0] == 'O':\n",
        "                    update_result(s, 'O2')\n",
        "                \n",
        "                elif s[0] == 'N':\n",
        "                    update_result(s, 'N3')\n",
        "                    for pl in path_division(s, i):\n",
        "                        if pl[0] == 'H':\n",
        "                            update_result(pl, 'H3')\n",
        "                        \n",
        "                        elif pl[0] == 'C':\n",
        "                            update_result(pl, 'C4')\n",
        "                           \n",
        "                            for nk in path_division(pl, s):\n",
        "                                if nk[0] == 'O':\n",
        "                                    update_result(nk, 'O4')\n",
        "                               \n",
        "                                elif nk[0] == 'N':\n",
        "                                    update_result(nk, 'N4')\n",
        "                                    for nns in path_division(nk, pl):\n",
        "                                        update_result (nns, 'H4')\n",
        "                                \n",
        "                                elif nk[0] == 'C':\n",
        "                                    update_result(nk, 'C5')\n",
        "                                   \n",
        "                                    for c6 in path_division(nk, pl):\n",
        "                                        if c6[0] == 'H':\n",
        "                                            update_result(pl, 'H5')\n",
        "\n",
        "                                        elif c6[0] == 'C':\n",
        "                                            if near_atoms(c6).count('H') == 1:\n",
        "                                                update_result(c6, 'C6')                                                \n",
        "                                                for h6 in path_division(c6, nk):\n",
        "                                                    if h6[0] == 'H':\n",
        "                                                        update_result(h6, 'H6')\n",
        "\n",
        "                                            elif near_atoms(c6).count('H') == 3:\n",
        "                                                update_result(c6, 'C55')\n",
        "                                               \n",
        "                                                for hh in path_division(c6, nk):\n",
        "                                                    update_result(hh, 'H55')"
      ]
    },
    {
      "cell_type": "code",
      "execution_count": 15,
      "metadata": {
        "trusted": true
      },
      "outputs": [],
      "source": [
        "for i in n_atom_3C[0:3]:            \n",
        "    ls = near_atoms(i)\n",
        "    \n",
        "                #     #Аналіз пуринів\n",
        "    if nucleoside_is == 'DG' or 'DA':\n",
        "        ls = near_atoms(i)\n",
        "        if ls.count('C') == 1  and ls.count('N') == 2:  # По С1' > O\n",
        "            update_result(i, 'C4')\n",
        "            for s in path_division(i, n_atom_3C[3]):\n",
        "                if s[0] == 'N':\n",
        "                    update_result(s, 'N3')\n",
        "                    \n",
        "                    for c2 in path_division(s, i):\n",
        "                        update_result(c2, 'C2')\n",
        "                        \n",
        "                        for n1 in path_division(c2, s):\n",
        "                            if n1[0] == 'H':\n",
        "                                update_result(n1, 'H2')\n",
        "                            \n",
        "                            elif n1[0] == 'N':\n",
        "                                if near_atoms(n1).count('H') == 2:\n",
        "                                    update_result(n1, 'N2')                                    \n",
        "                                    for h2 in path_division(n1, c2):\n",
        "                                        if h2[0] == 'H':\n",
        "                                            update_result(h2, 'H2')\n",
        "                                \n",
        "                                x = near_atoms(n1).count('H')                                                     \n",
        "                                if x == 1 or x == 0:\n",
        "                                    update_result(n1, 'N1')\n",
        "                                    \n",
        "                                    for c6 in path_division(n1, c2):\n",
        "                                        update_result(c6, 'C6')\n",
        "                                        \n",
        "                                        for c5 in path_division(c6, n1):\n",
        "                                            if c5[0] == 'O':\n",
        "                                                update_result(c5, 'O6')\n",
        "                                            \n",
        "                                            elif c5[0] == 'N':\n",
        "                                                update_result(c5, 'N6')\n",
        "                                                for n6 in path_division(c5, c6):\n",
        "                                                    update_result(n6, 'H6')\n",
        "                                            \n",
        "                                            elif c5[0] == 'C':\n",
        "                                                update_result(c5, 'C5')\n",
        "                                                \n",
        "                                                for n7 in path_division(c5, c6):\n",
        "                                                    if n7[0] == 'N':\n",
        "                                                        update_result(n7, 'N7')\n",
        "                                                        \n",
        "                                                        for c8 in path_division(n7, c5):\n",
        "                                                            update_result(c8, 'C8')\n",
        "                                                            for h8 in path_division(c8, n7):\n",
        "                                                                if h8[0] == 'H':\n",
        "                                                                    update_result(h8, 'H8')"
      ]
    },
    {
      "cell_type": "code",
      "execution_count": 16,
      "metadata": {
        "trusted": true
      },
      "outputs": [],
      "source": [
        "# Додаэмо в results залишкові атоми Н в дезоксирибозу\n",
        "def H_atoms_sugar(atom_found):\n",
        "    H_dict = {'O3':'H3``', 'C3' : 'H3`', 'O5':'H5``', 'C5' : 'H5`'}\n",
        "    for n in(near_atomswindex(atom_found[0])):\n",
        "        if n[0] == 'H':\n",
        "            var = H_dict[atom_found[1]]\n",
        "            update_result(n, var)\n",
        "            \n",
        "atom_found_ls = [O3_found, C3_found, O5_found, C5_found]\n",
        "\n",
        "if O3_found is None:\n",
        "    pass\n",
        "else:\n",
        "    for h in atom_found_ls:\n",
        "        H_atoms_sugar(h)\n",
        "\n"
      ]
    },
    {
      "cell_type": "code",
      "execution_count": 17,
      "metadata": {
        "trusted": true
      },
      "outputs": [
        {
          "name": "stdout",
          "output_type": "stream",
          "text": [
            "29\n"
          ]
        }
      ],
      "source": [
        "with open('result.pdb', 'w') as file1:     #Записуємо дані в mineresult.pdb Приклад запису строки : ATOM    1    N6   DA   1      1.5139   -1.147   2.8298   1.00 0.00           N\n",
        "    for i in range(atom_number):                                # !!!!!!!!range(atom_number-1) має бути\n",
        "\n",
        "        rsp = 5 - len(result_list[i][2])\n",
        "        \n",
        "        x_val = str(result_list[i][1][0])[0:6]\n",
        "        y_val = str(result_list[i][1][1])[0:6]\n",
        "        z_val = str(result_list[i][1][2])[0:6]\n",
        "        if len(x_val) < 6:\n",
        "            x_val = f'{x_val}{'0'*(6 - len(x_val))}'\n",
        "        if len(y_val) < 6:\n",
        "            y_val = f'{y_val}{'0'*(6 - len(y_val))}'\n",
        "        if len(z_val) < 6:\n",
        "            z_val = f'{z_val}{'0'*(6 - len(z_val))}'\n",
        "\n",
        "        atom = result_list[i][0][0]\n",
        "        atom_ind = result_list[i][2]\n",
        "\n",
        "        if  i+1 <= 9:\n",
        "            space = ' '\n",
        "        else:\n",
        "            space = ''\n",
        "\n",
        "        file1.write(f'ATOM    {i+1}{space}   {atom_ind}{' '*rsp}{nucleoside_is}   1      {x_val}   {y_val}   {z_val}   1.00 0.00           {atom}\\n')\n",
        "        \n",
        "print(len(result_list))"
      ]
    },
    {
      "cell_type": "code",
      "execution_count": null,
      "metadata": {
        "trusted": true
      },
      "outputs": [],
      "source": []
    }
  ],
  "metadata": {
    "kernelspec": {
      "display_name": "Python 3",
      "language": "python",
      "name": "python3"
    },
    "language_info": {
      "codemirror_mode": {
        "name": "ipython",
        "version": 3
      },
      "file_extension": ".py",
      "mimetype": "text/x-python",
      "name": "python",
      "nbconvert_exporter": "python",
      "pygments_lexer": "ipython3",
      "version": "3.12.1"
    }
  },
  "nbformat": 4,
  "nbformat_minor": 4
}
